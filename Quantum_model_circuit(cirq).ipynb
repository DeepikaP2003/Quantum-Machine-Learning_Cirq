{
  "nbformat": 4,
  "nbformat_minor": 0,
  "metadata": {
    "colab": {
      "provenance": []
    },
    "kernelspec": {
      "name": "python3",
      "display_name": "Python 3"
    },
    "language_info": {
      "name": "python"
    }
  },
  "cells": [
    {
      "cell_type": "code",
      "execution_count": 1,
      "metadata": {
        "id": "iCtPkJIqSeIl",
        "colab": {
          "base_uri": "https://localhost:8080/"
        },
        "outputId": "c03cdbda-5470-4ede-9ce2-a806fac2000d"
      },
      "outputs": [
        {
          "output_type": "stream",
          "name": "stdout",
          "text": [
            "\u001b[?25l     \u001b[90m━━━━━━━━━━━━━━━━━━━━━━━━━━━━━━━━━━━━━━━━\u001b[0m \u001b[32m0.0/45.6 kB\u001b[0m \u001b[31m?\u001b[0m eta \u001b[36m-:--:--\u001b[0m\r\u001b[2K     \u001b[90m━━━━━━━━━━━━━━━━━━━━━━━━━━━━━━━━━━━━━━━━\u001b[0m \u001b[32m45.6/45.6 kB\u001b[0m \u001b[31m1.9 MB/s\u001b[0m eta \u001b[36m0:00:00\u001b[0m\n",
            "\u001b[?25h  Preparing metadata (setup.py) ... \u001b[?25l\u001b[?25hdone\n",
            "\u001b[2K   \u001b[90m━━━━━━━━━━━━━━━━━━━━━━━━━━━━━━━━━━━━━━━━\u001b[0m \u001b[32m1.9/1.9 MB\u001b[0m \u001b[31m32.9 MB/s\u001b[0m eta \u001b[36m0:00:00\u001b[0m\n",
            "\u001b[2K   \u001b[90m━━━━━━━━━━━━━━━━━━━━━━━━━━━━━━━━━━━━━━━━\u001b[0m \u001b[32m532.7/532.7 kB\u001b[0m \u001b[31m25.3 MB/s\u001b[0m eta \u001b[36m0:00:00\u001b[0m\n",
            "\u001b[2K   \u001b[90m━━━━━━━━━━━━━━━━━━━━━━━━━━━━━━━━━━━━━━━━\u001b[0m \u001b[32m60.5/60.5 kB\u001b[0m \u001b[31m4.3 MB/s\u001b[0m eta \u001b[36m0:00:00\u001b[0m\n",
            "\u001b[2K   \u001b[90m━━━━━━━━━━━━━━━━━━━━━━━━━━━━━━━━━━━━━━━━\u001b[0m \u001b[32m69.3/69.3 kB\u001b[0m \u001b[31m4.5 MB/s\u001b[0m eta \u001b[36m0:00:00\u001b[0m\n",
            "\u001b[2K   \u001b[90m━━━━━━━━━━━━━━━━━━━━━━━━━━━━━━━━━━━━━━━━\u001b[0m \u001b[32m596.5/596.5 kB\u001b[0m \u001b[31m29.6 MB/s\u001b[0m eta \u001b[36m0:00:00\u001b[0m\n",
            "\u001b[2K   \u001b[90m━━━━━━━━━━━━━━━━━━━━━━━━━━━━━━━━━━━━━━━━\u001b[0m \u001b[32m202.6/202.6 kB\u001b[0m \u001b[31m10.7 MB/s\u001b[0m eta \u001b[36m0:00:00\u001b[0m\n",
            "\u001b[2K   \u001b[90m━━━━━━━━━━━━━━━━━━━━━━━━━━━━━━━━━━━━━━━━\u001b[0m \u001b[32m6.9/6.9 MB\u001b[0m \u001b[31m60.7 MB/s\u001b[0m eta \u001b[36m0:00:00\u001b[0m\n",
            "\u001b[2K   \u001b[90m━━━━━━━━━━━━━━━━━━━━━━━━━━━━━━━━━━━━━━━━\u001b[0m \u001b[32m2.4/2.4 MB\u001b[0m \u001b[31m51.9 MB/s\u001b[0m eta \u001b[36m0:00:00\u001b[0m\n",
            "\u001b[2K   \u001b[90m━━━━━━━━━━━━━━━━━━━━━━━━━━━━━━━━━━━━━━━━\u001b[0m \u001b[32m53.0/53.0 kB\u001b[0m \u001b[31m3.0 MB/s\u001b[0m eta \u001b[36m0:00:00\u001b[0m\n",
            "\u001b[2K   \u001b[90m━━━━━━━━━━━━━━━━━━━━━━━━━━━━━━━━━━━━━━━━\u001b[0m \u001b[32m1.7/1.7 MB\u001b[0m \u001b[31m63.3 MB/s\u001b[0m eta \u001b[36m0:00:00\u001b[0m\n",
            "\u001b[2K   \u001b[90m━━━━━━━━━━━━━━━━━━━━━━━━━━━━━━━━━━━━━━━━\u001b[0m \u001b[32m117.8/117.8 kB\u001b[0m \u001b[31m8.0 MB/s\u001b[0m eta \u001b[36m0:00:00\u001b[0m\n",
            "\u001b[2K   \u001b[90m━━━━━━━━━━━━━━━━━━━━━━━━━━━━━━━━━━━━━━━━\u001b[0m \u001b[32m526.7/526.7 kB\u001b[0m \u001b[31m30.1 MB/s\u001b[0m eta \u001b[36m0:00:00\u001b[0m\n",
            "\u001b[?25h  Building wheel for rpcq (setup.py) ... \u001b[?25l\u001b[?25hdone\n"
          ]
        }
      ],
      "source": [
        "!pip install --quiet cirq"
      ]
    },
    {
      "cell_type": "code",
      "source": [
        "import cirq as c"
      ],
      "metadata": {
        "id": "nKd-QGxGSi8l"
      },
      "execution_count": 2,
      "outputs": []
    },
    {
      "cell_type": "code",
      "source": [
        "# defining qubits\n",
        "qubits = c.LineQubit.range(6)   #for designing purpose only 6 qubits have been considered and stored in a list as inputs, can be changed according to the problem statement.\n",
        "print(qubits)"
      ],
      "metadata": {
        "colab": {
          "base_uri": "https://localhost:8080/"
        },
        "id": "5hU5RApMSuYg",
        "outputId": "fd7555f6-e31f-4458-f5a6-45d04154ee07"
      },
      "execution_count": 23,
      "outputs": [
        {
          "output_type": "stream",
          "name": "stdout",
          "text": [
            "[cirq.LineQubit(0), cirq.LineQubit(1), cirq.LineQubit(2), cirq.LineQubit(3), cirq.LineQubit(4), cirq.LineQubit(5)]\n"
          ]
        }
      ]
    },
    {
      "cell_type": "code",
      "source": [
        "#ORIGINAL CODE\n",
        "# #applying gates\n",
        "# def mycircuit(qubits):\n",
        "#   circuit = c.Circuit()  # empty circuit created\n",
        "#   #layer 1\n",
        "#   moment0 = circuit.append([c.rx(0.5)(q) for q in qubits[0:5]])\n",
        "#   moment1 = circuit.append([c.ry(0.5)(q) for q in qubits[0:5]])\n",
        "#   for i in range(len(qubits)-1):\n",
        "#     moment2 = circuit.append(c.CNOT(qubits[i],qubits[i+1]))\n",
        "#   moment3 = circuit.append(c.CNOT(qubits[5],qubits[0]))\n",
        "\n",
        "#   # Barrier (Empty Moment)\n",
        "#   circuit.append(c.Moment())\n",
        "\n",
        "#   #layer 2\n",
        "#   moment4 = circuit.append([c.rx(0.5)(q) for q in qubits[0:5]])\n",
        "#   moment5 = circuit.append([c.ry(0.5)(q) for q in qubits[0:5]])\n",
        "#   for i in range(len(qubits)-1):\n",
        "#     moment6 = circuit.append(c.CNOT(qubits[i],qubits[i+1]))\n",
        "#   moment7 = circuit.append(c.CNOT(qubits[5],qubits[0]))\n",
        "\n",
        "#   # Barrier (Empty Moment)\n",
        "#   circuit.append(c.Moment())\n",
        "\n",
        "\n",
        "#   #layer 3\n",
        "#   moment8 = circuit.append([c.rx(0.5)(q) for q in qubits[0:5]])\n",
        "#   moment9 = circuit.append([c.ry(0.5)(q) for q in qubits[0:5]])\n",
        "#   for i in range(len(qubits)-1):\n",
        "#     moment10 = circuit.append(c.CNOT(qubits[i],qubits[i+1]))\n",
        "#   moment11 = circuit.append(c.CNOT(qubits[5],qubits[0]))\n",
        "\n",
        "#   # Barrier (Empty Moment)\n",
        "#   circuit.append(c.Moment())\n",
        "\n",
        "\n",
        "#   measure = c.Moment([c.measure(qubit) for qubit in qubits])\n",
        "#   circuit.append(measure)\n",
        "#   return circuit\n",
        "\n",
        "\n",
        "# print(mycircuit(qubits))\n",
        "\n"
      ],
      "metadata": {
        "id": "4-atR9oSTV2W"
      },
      "execution_count": 24,
      "outputs": []
    },
    {
      "cell_type": "code",
      "source": [
        "# due to allignment issues, instead of demarcation of every moment (moment0, moment1, etc) we directly append the moments."
      ],
      "metadata": {
        "id": "Fz8725sX2fRR"
      },
      "execution_count": null,
      "outputs": []
    },
    {
      "cell_type": "code",
      "source": [
        "#UPDATED CODE\n",
        "\n",
        "#applying gates\n",
        "def mycircuit(qubits):\n",
        "  circuit = c.Circuit()  # empty circuit created\n",
        "\n",
        "\n",
        "  #layer 1\n",
        "  circuit.append(c.Moment([c.rx(0.5)(q) for q in qubits[0:5]]))\n",
        "  circuit.append(c.Moment([c.ry(0.5)(q) for q in qubits[0:5]]))\n",
        "  for i in range(len(qubits)-1):\n",
        "    circuit.append(c.Moment(c.CNOT(qubits[i],qubits[i+1])))\n",
        "  circuit.append(c.Moment(c.CNOT(qubits[5],qubits[0])))\n",
        "\n",
        "  # Barrier (Empty Moment)\n",
        "  circuit.append(c.Moment())\n",
        "\n",
        "\n",
        "  #layer 2\n",
        "  circuit.append(c.Moment([c.rx(0.5)(q) for q in qubits[0:5]]))\n",
        "  circuit.append(c.Moment([c.ry(0.5)(q) for q in qubits[0:5]]))\n",
        "  for i in range(len(qubits)-1):\n",
        "    circuit.append(c.Moment(c.CNOT(qubits[i],qubits[i+1])))\n",
        "  circuit.append(c.Moment(c.CNOT(qubits[5],qubits[0])))\n",
        "\n",
        "  # Barrier (Empty Moment)\n",
        "  circuit.append(c.Moment())\n",
        "\n",
        "\n",
        "  #layer 3\n",
        "  circuit.append(c.Moment([c.rx(0.5)(q) for q in qubits[0:5]]))\n",
        "  circuit.append(c.Moment([c.ry(0.5)(q) for q in qubits[0:5]]))\n",
        "  for i in range(len(qubits)-1):\n",
        "    circuit.append(c.Moment(c.CNOT(qubits[i],qubits[i+1])))\n",
        "  circuit.append(c.Moment(c.CNOT(qubits[5],qubits[0])))\n",
        "\n",
        "  # Barrier (Empty Moment)\n",
        "  circuit.append(c.Moment())\n",
        "\n",
        "#adding measure in the end\n",
        "  measure = c.Moment([c.measure(qubit) for qubit in qubits])\n",
        "  circuit.append(measure)\n",
        "  return circuit\n",
        "\n",
        "\n",
        "print(mycircuit(qubits))\n",
        "\n"
      ],
      "metadata": {
        "colab": {
          "base_uri": "https://localhost:8080/"
        },
        "id": "ReKe5zDCtkSS",
        "outputId": "f2580e87-0f0f-4fdf-af91-3a705f61bd93"
      },
      "execution_count": 27,
      "outputs": [
        {
          "output_type": "stream",
          "name": "stdout",
          "text": [
            "0: ───Rx(0.159π)───Ry(0.159π)───@───────────────────X───────Rx(0.159π)───Ry(0.159π)───@───────────────────X───────Rx(0.159π)───Ry(0.159π)───@───────────────────X───────M───\n",
            "                                │                   │                                 │                   │                                 │                   │\n",
            "1: ───Rx(0.159π)───Ry(0.159π)───X───@───────────────┼───────Rx(0.159π)───Ry(0.159π)───X───@───────────────┼───────Rx(0.159π)───Ry(0.159π)───X───@───────────────┼───────M───\n",
            "                                    │               │                                     │               │                                     │               │\n",
            "2: ───Rx(0.159π)───Ry(0.159π)───────X───@───────────┼───────Rx(0.159π)───Ry(0.159π)───────X───@───────────┼───────Rx(0.159π)───Ry(0.159π)───────X───@───────────┼───────M───\n",
            "                                        │           │                                         │           │                                         │           │\n",
            "3: ───Rx(0.159π)───Ry(0.159π)───────────X───@───────┼───────Rx(0.159π)───Ry(0.159π)───────────X───@───────┼───────Rx(0.159π)───Ry(0.159π)───────────X───@───────┼───────M───\n",
            "                                            │       │                                             │       │                                             │       │\n",
            "4: ───Rx(0.159π)───Ry(0.159π)───────────────X───@───┼───────Rx(0.159π)───Ry(0.159π)───────────────X───@───┼───────Rx(0.159π)───Ry(0.159π)───────────────X───@───┼───────M───\n",
            "                                                │   │                                                 │   │                                                 │   │\n",
            "5: ─────────────────────────────────────────────X───@─────────────────────────────────────────────────X───@─────────────────────────────────────────────────X───@───────M───\n"
          ]
        }
      ]
    },
    {
      "cell_type": "code",
      "source": [
        "sim = c.Simulator()\n",
        "results = sim.run(mycircuit(qubits))\n",
        "print(results)"
      ],
      "metadata": {
        "colab": {
          "base_uri": "https://localhost:8080/"
        },
        "id": "ZylAMR6mXYIO",
        "outputId": "87f643bf-d54e-483c-b2eb-30dc674cea8a"
      },
      "execution_count": 26,
      "outputs": [
        {
          "output_type": "stream",
          "name": "stdout",
          "text": [
            "q(0)=1\n",
            "q(1)=1\n",
            "q(2)=0\n",
            "q(3)=1\n",
            "q(4)=0\n",
            "q(5)=1\n"
          ]
        }
      ]
    },
    {
      "cell_type": "code",
      "source": [],
      "metadata": {
        "id": "NFbX2VV6dcQg"
      },
      "execution_count": 22,
      "outputs": []
    },
    {
      "cell_type": "code",
      "source": [],
      "metadata": {
        "id": "RVHtYjDMj_Gg"
      },
      "execution_count": null,
      "outputs": []
    },
    {
      "cell_type": "code",
      "source": [],
      "metadata": {
        "id": "-QvHA-qbnslu"
      },
      "execution_count": null,
      "outputs": []
    }
  ]
}